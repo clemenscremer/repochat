{
 "cells": [
  {
   "cell_type": "code",
   "execution_count": 4,
   "metadata": {},
   "outputs": [],
   "source": [
    "from autogen import ConversableAgent\n",
    "\n",
    "import os\n",
    "from dotenv import load_dotenv\n",
    "load_dotenv()\n",
    "\n",
    "config_list = [\n",
    "        # Azure OpenAI deployments\n",
    "        {\n",
    "            \"model\": os.getenv(\"GPT4o_DEPLOYMENT_NAME\"), \n",
    "            \"tags\": [\"gpt-4o\", \"azure\", \"OpenAI\", \"big\"], # autogen tags for filtering if multiple models are specified\n",
    "            \"api_key\": os.getenv(\"AZURE_API_KEY\"), \n",
    "            \"base_url\": os.getenv(\"AZURE_DEPLOYMENT_ENDPOINT\"), \n",
    "            \"api_type\": \"azure\", \n",
    "            \"api_version\": \"2023-03-15-preview\", # API VERSION != MODEL VERSION!!!!! Get from deployment targt in Azure AI Studio\n",
    "            \"temperature\": 0.2,\n",
    "        },        \n",
    "        {\n",
    "            \"model\": os.getenv(\"GPT4omini_DEPLOYMENT_NAME\"), \n",
    "            \"tags\": [\"gpt-4o-mini\", \"azure\", \"OpenAI\", \"medium\"], # autogen tags for filtering if multiple models are specified\n",
    "            \"api_key\": os.getenv(\"AZURE_API_KEY\"), \n",
    "            \"base_url\": os.getenv(\"AZURE_DEPLOYMENT_ENDPOINT\"), \n",
    "            \"api_type\": \"azure\", \n",
    "            \"api_version\": \"2023-03-15-preview\", # API VERSION != MODEL VERSION!!!!! Get from deployment targt in Azure AI Studio\n",
    "            \"temperature\": 0.2,\n",
    "        },]\n",
    "\n",
    "\n",
    "# model selection\n",
    "model = \"gpt-4o-mini\"\n",
    "filter_dict = {\"tags\": [model]}\n",
    "filtered_cl = [config for config in config_list if model in config.get(\"tags\", [])]\n",
    "\n",
    "# create agent\n",
    "system_prompt = \"You are a helpful agent\" \n",
    "agent = ConversableAgent(\n",
    "        \"chatbot\",\n",
    "        system_message=system_prompt,\n",
    "        llm_config=filtered_cl[0],\n",
    "        human_input_mode=\"NEVER\",)"
   ]
  },
  {
   "cell_type": "code",
   "execution_count": 6,
   "metadata": {},
   "outputs": [
    {
     "data": {
      "text/plain": [
       "\"Hello! I'm here and ready to help. How can I assist you today?\""
      ]
     },
     "execution_count": 6,
     "metadata": {},
     "output_type": "execute_result"
    }
   ],
   "source": [
    "message = [{\"role\": \"user\", \"content\": \"Hello, how are you?\"}]\n",
    "reply = agent.generate_reply(message)\n",
    "reply"
   ]
  }
 ],
 "metadata": {
  "language_info": {
   "name": "python"
  }
 },
 "nbformat": 4,
 "nbformat_minor": 2
}
